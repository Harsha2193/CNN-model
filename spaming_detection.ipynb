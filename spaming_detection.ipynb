{
  "nbformat": 4,
  "nbformat_minor": 0,
  "metadata": {
    "colab": {
      "provenance": [],
      "mount_file_id": "1rBhH0-ad4zRU0ZDibiKKLKxntokvppjT",
      "authorship_tag": "ABX9TyOXpE7GKXjlddxamxg86gCy",
      "include_colab_link": true
    },
    "kernelspec": {
      "name": "python3",
      "display_name": "Python 3"
    },
    "language_info": {
      "name": "python"
    }
  },
  "cells": [
    {
      "cell_type": "markdown",
      "metadata": {
        "id": "view-in-github",
        "colab_type": "text"
      },
      "source": [
        "<a href=\"https://colab.research.google.com/github/Harsha2193/CNN-model/blob/main/spaming_detection.ipynb\" target=\"_parent\"><img src=\"https://colab.research.google.com/assets/colab-badge.svg\" alt=\"Open In Colab\"/></a>"
      ]
    },
    {
      "cell_type": "code",
      "execution_count": 1,
      "metadata": {
        "id": "kIbbxOSks7z8"
      },
      "outputs": [],
      "source": [
        "import numpy as np\n",
        "import pandas as pd\n",
        "from sklearn.model_selection import train_test_split\n",
        "from sklearn.preprocessing import LabelEncoder\n",
        "from tensorflow.keras.preprocessing.text import Tokenizer\n",
        "from tensorflow.keras.preprocessing.sequence import pad_sequences\n",
        "from tensorflow.keras.models import Sequential\n",
        "from tensorflow.keras.layers import Embedding, LSTM, Dense, SpatialDropout1D\n",
        "from tensorflow.keras.optimizers import Adam"
      ]
    },
    {
      "cell_type": "code",
      "source": [
        "df = pd.read_csv('/content/drive/MyDrive/m/spam.csv', encoding='latin-1')"
      ],
      "metadata": {
        "id": "YRgCFhFztBNy"
      },
      "execution_count": 7,
      "outputs": []
    },
    {
      "cell_type": "code",
      "source": [
        "\n",
        "df = df[['v1', 'v2']]\n",
        "df.columns = ['label', 'text']"
      ],
      "metadata": {
        "id": "SuyVnQnBt_aw"
      },
      "execution_count": 8,
      "outputs": []
    },
    {
      "cell_type": "code",
      "source": [
        "\n",
        "le = LabelEncoder()\n",
        "df['label'] = le.fit_transform(df['label'])"
      ],
      "metadata": {
        "id": "jgg-82Mgt_dG"
      },
      "execution_count": 9,
      "outputs": []
    },
    {
      "cell_type": "code",
      "source": [
        "\n",
        "tokenizer = Tokenizer(num_words=5000, lower=True, split=' ')\n",
        "tokenizer.fit_on_texts(df['text'].values)\n",
        "X = tokenizer.texts_to_sequences(df['text'].values)\n",
        "X = pad_sequences(X)"
      ],
      "metadata": {
        "id": "l-f5_nyht_gf"
      },
      "execution_count": 10,
      "outputs": []
    },
    {
      "cell_type": "code",
      "source": [
        "X_train, X_test, y_train, y_test = train_test_split(X, df['label'].values, test_size=0.2, random_state=42)"
      ],
      "metadata": {
        "id": "Ja4jHB7htBRJ"
      },
      "execution_count": 11,
      "outputs": []
    },
    {
      "cell_type": "code",
      "source": [
        "model = Sequential()\n",
        "model.add(Embedding(input_dim=5000, output_dim=128, input_length=X.shape[1]))\n",
        "model.add(SpatialDropout1D(0.2))\n",
        "model.add(LSTM(100, dropout=0.2, recurrent_dropout=0.2))\n",
        "model.add(Dense(1, activation='sigmoid'))"
      ],
      "metadata": {
        "id": "fQX5pl61vPfr"
      },
      "execution_count": 12,
      "outputs": []
    },
    {
      "cell_type": "code",
      "source": [
        "model.compile(loss='binary_crossentropy', optimizer=Adam(learning_rate=0.001), metrics=['accuracy'])"
      ],
      "metadata": {
        "id": "riMwG6ukvPjC"
      },
      "execution_count": 13,
      "outputs": []
    },
    {
      "cell_type": "code",
      "source": [
        "print(model.summary())"
      ],
      "metadata": {
        "colab": {
          "base_uri": "https://localhost:8080/"
        },
        "id": "hSO2jEYIvQMp",
        "outputId": "31460b77-525b-4e4d-c523-4fdf4d483d99"
      },
      "execution_count": 14,
      "outputs": [
        {
          "output_type": "stream",
          "name": "stdout",
          "text": [
            "Model: \"sequential\"\n",
            "_________________________________________________________________\n",
            " Layer (type)                Output Shape              Param #   \n",
            "=================================================================\n",
            " embedding (Embedding)       (None, 183, 128)          640000    \n",
            "                                                                 \n",
            " spatial_dropout1d (Spatial  (None, 183, 128)          0         \n",
            " Dropout1D)                                                      \n",
            "                                                                 \n",
            " lstm (LSTM)                 (None, 100)               91600     \n",
            "                                                                 \n",
            " dense (Dense)               (None, 1)                 101       \n",
            "                                                                 \n",
            "=================================================================\n",
            "Total params: 731701 (2.79 MB)\n",
            "Trainable params: 731701 (2.79 MB)\n",
            "Non-trainable params: 0 (0.00 Byte)\n",
            "_________________________________________________________________\n",
            "None\n"
          ]
        }
      ]
    },
    {
      "cell_type": "code",
      "source": [
        "epochs = 5\n",
        "batch_size = 64"
      ],
      "metadata": {
        "id": "nKhzFC4NvgV2"
      },
      "execution_count": 15,
      "outputs": []
    },
    {
      "cell_type": "code",
      "source": [
        "history = model.fit(X_train, y_train, epochs=epochs, batch_size=batch_size, validation_data=(X_test, y_test), verbose=2)"
      ],
      "metadata": {
        "colab": {
          "base_uri": "https://localhost:8080/"
        },
        "id": "CtUgEBfjvZrK",
        "outputId": "632e569b-6743-443c-afe5-2bf54632eced"
      },
      "execution_count": 16,
      "outputs": [
        {
          "output_type": "stream",
          "name": "stdout",
          "text": [
            "Epoch 1/5\n",
            "70/70 - 50s - loss: 0.2405 - accuracy: 0.9190 - val_loss: 0.0767 - val_accuracy: 0.9758 - 50s/epoch - 716ms/step\n",
            "Epoch 2/5\n",
            "70/70 - 39s - loss: 0.0355 - accuracy: 0.9897 - val_loss: 0.0591 - val_accuracy: 0.9839 - 39s/epoch - 551ms/step\n",
            "Epoch 3/5\n",
            "70/70 - 40s - loss: 0.0213 - accuracy: 0.9944 - val_loss: 0.0508 - val_accuracy: 0.9857 - 40s/epoch - 577ms/step\n",
            "Epoch 4/5\n",
            "70/70 - 44s - loss: 0.0103 - accuracy: 0.9978 - val_loss: 0.0503 - val_accuracy: 0.9848 - 44s/epoch - 622ms/step\n",
            "Epoch 5/5\n",
            "70/70 - 41s - loss: 0.0057 - accuracy: 0.9984 - val_loss: 0.0584 - val_accuracy: 0.9821 - 41s/epoch - 586ms/step\n"
          ]
        }
      ]
    },
    {
      "cell_type": "code",
      "source": [
        "score, acc = model.evaluate(X_test, y_test, verbose=2, batch_size=batch_size)\n",
        "print(f'Test accuracy: {acc}')"
      ],
      "metadata": {
        "colab": {
          "base_uri": "https://localhost:8080/"
        },
        "id": "TG_EJju6vZuh",
        "outputId": "f605f4dd-5fe9-49e5-e9dd-3dbab3397d6d"
      },
      "execution_count": 17,
      "outputs": [
        {
          "output_type": "stream",
          "name": "stdout",
          "text": [
            "18/18 - 2s - loss: 0.0584 - accuracy: 0.9821 - 2s/epoch - 137ms/step\n",
            "Test accuracy: 0.9820627570152283\n"
          ]
        }
      ]
    },
    {
      "cell_type": "code",
      "source": [
        "def predict_message(message):\n",
        "    seq = tokenizer.texts_to_sequences([message])\n",
        "    padded = pad_sequences(seq, maxlen=X.shape[1])\n",
        "    pred = model.predict(padded)\n",
        "    return 'Spam' if pred[0][0] > 0.5 else 'Not Spam'\n",
        "\n",
        "# Input message to check\n",
        "input_message = \"Free entry in 2 a wkly comp to win FA Cup final tkts 21st May 2005.\"\n",
        "print(f\"Message: {input_message}\")\n",
        "print(f\"Prediction: {predict_message(input_message)}\")"
      ],
      "metadata": {
        "colab": {
          "base_uri": "https://localhost:8080/"
        },
        "id": "Cx0AwWzXxQm-",
        "outputId": "b5c062d2-b602-4e01-d45c-7bfb80c449c9"
      },
      "execution_count": 20,
      "outputs": [
        {
          "output_type": "stream",
          "name": "stdout",
          "text": [
            "Message: Free entry in 2 a wkly comp to win FA Cup final tkts 21st May 2005.\n",
            "1/1 [==============================] - 0s 45ms/step\n",
            "Prediction: Spam\n"
          ]
        }
      ]
    }
  ]
}